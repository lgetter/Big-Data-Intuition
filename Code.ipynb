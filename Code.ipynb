{
 "cells": [
  {
   "cell_type": "code",
   "execution_count": 1,
   "metadata": {},
   "outputs": [],
   "source": [
    "import pandas as pd\n",
    "\n",
    "csv = '.\\YouTubeDataset_withChannelElapsed.csv'\n",
    "df = pd.read_csv(csv)\n",
    "# Remove duplicate videos\n",
    "df.drop_duplicates(subset='videoId', inplace=True)"
   ]
  },
  {
   "cell_type": "code",
   "execution_count": 2,
   "metadata": {},
   "outputs": [
    {
     "name": "stdout",
     "output_type": "stream",
     "text": [
      "11\n"
     ]
    }
   ],
   "source": [
    "# 1 Average number of likes per video\n",
    "print(round(df['videoLikeCount'].sum() / df.size))"
   ]
  },
  {
   "cell_type": "code",
   "execution_count": 3,
   "metadata": {},
   "outputs": [
    {
     "name": "stdout",
     "output_type": "stream",
     "text": [
      "-0.002\n"
     ]
    }
   ],
   "source": [
    "# 2 Average engagement rate\n",
    "engagements = df['videoLikeCount'] + df['videoDislikeCount'] + df['VideoCommentCount']\n",
    "engagement_rates = engagements / df['videoViewCount']\n",
    "print(round(engagement_rates.sum() / df.size, 4))"
   ]
  },
  {
   "cell_type": "code",
   "execution_count": 4,
   "metadata": {},
   "outputs": [
    {
     "name": "stdout",
     "output_type": "stream",
     "text": [
      "0.1958\n"
     ]
    }
   ],
   "source": [
    "# 3 Calculate size of video\n",
    "combined_storage = 200500 / 1024000\n",
    "print(round(combined_storage, 4))"
   ]
  },
  {
   "cell_type": "code",
   "execution_count": 5,
   "metadata": {},
   "outputs": [
    {
     "name": "stdout",
     "output_type": "stream",
     "text": [
      "38173802.7656\n"
     ]
    }
   ],
   "source": [
    "# 4 Calculate data transfer for engagements\n",
    "print(round(engagements.sum() * combined_storage, 4))"
   ]
  },
  {
   "cell_type": "code",
   "execution_count": 6,
   "metadata": {},
   "outputs": [
    {
     "name": "stdout",
     "output_type": "stream",
     "text": [
      "12473.2206\n"
     ]
    }
   ],
   "source": [
    "# 5 Estimated views per minute\n",
    "minutes_in_five_years = 365 * 24 * 60 * 5\n",
    "views_per_minute = df['videoViewCount'].sum() / minutes_in_five_years\n",
    "print(round(views_per_minute, 4))"
   ]
  },
  {
   "cell_type": "code",
   "execution_count": 7,
   "metadata": {},
   "outputs": [
    {
     "name": "stdout",
     "output_type": "stream",
     "text": [
      "2442.2663\n"
     ]
    }
   ],
   "source": [
    "# 6 Data accessed per minute\n",
    "print(round(views_per_minute * combined_storage, 4))"
   ]
  },
  {
   "cell_type": "code",
   "execution_count": null,
   "metadata": {},
   "outputs": [],
   "source": []
  }
 ],
 "metadata": {
  "kernelspec": {
   "display_name": "Python 3",
   "language": "python",
   "name": "python3"
  },
  "language_info": {
   "codemirror_mode": {
    "name": "ipython",
    "version": 3
   },
   "file_extension": ".py",
   "mimetype": "text/x-python",
   "name": "python",
   "nbconvert_exporter": "python",
   "pygments_lexer": "ipython3",
   "version": "3.11.9"
  }
 },
 "nbformat": 4,
 "nbformat_minor": 2
}
